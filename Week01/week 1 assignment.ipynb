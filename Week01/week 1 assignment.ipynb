{
 "cells": [
  {
   "cell_type": "markdown",
   "id": "ec5765ce-a4c7-4166-8a48-343acedcd3b8",
   "metadata": {},
   "source": [
    "# Week 2 Individual Assignment"
   ]
  },
  {
   "cell_type": "markdown",
   "id": "35ddc207-68ac-4d37-a9b5-e27578311192",
   "metadata": {},
   "source": [
    "For this assignment, I am exploring a shapefile data of Transit Oriented Districts in Los Angeles County. This dataset is from Los Angeles County Department of Regional Planning."
   ]
  },
  {
   "cell_type": "markdown",
   "id": "ad8175df-5672-45c4-b319-286db1b957b4",
   "metadata": {},
   "source": [
    "For my file is in shapefile, and pandas cannot read shapefiles, so I import geopandas library."
   ]
  },
  {
   "cell_type": "code",
   "execution_count": 3,
   "id": "00ad990f-c014-4afb-badd-a7d305cc9074",
   "metadata": {},
   "outputs": [
    {
     "name": "stderr",
     "output_type": "stream",
     "text": [
      "/opt/conda/lib/python3.9/site-packages/geopandas/_compat.py:106: UserWarning: The Shapely GEOS version (3.9.1-CAPI-1.14.2) is incompatible with the GEOS version PyGEOS was compiled with (3.10.1-CAPI-1.16.0). Conversions between both will be slow.\n",
      "  warnings.warn(\n"
     ]
    }
   ],
   "source": [
    "import geopandas as gpd"
   ]
  },
  {
   "cell_type": "markdown",
   "id": "d1ed4dfb-adbe-4d32-bcee-56029876e1bc",
   "metadata": {},
   "source": [
    "Then I read and add shapefile to notebook"
   ]
  },
  {
   "cell_type": "code",
   "execution_count": 4,
   "id": "f1cf8ec3-1b6b-41f8-853b-a2f9eead9f82",
   "metadata": {},
   "outputs": [],
   "source": [
    "tod=gpd.read_file('Transit_Oriented_District_(TOD).zip')"
   ]
  },
  {
   "cell_type": "markdown",
   "id": "fce71062-5f41-48ca-8a1b-9dc15621096e",
   "metadata": {},
   "source": [
    "To observe the size of my data, I have to use.shape function to see how many rows and columns it has. By the looks of it, the data is not that big."
   ]
  },
  {
   "cell_type": "code",
   "execution_count": 5,
   "id": "1a88f06f-a285-4220-8e07-20d8fb543696",
   "metadata": {},
   "outputs": [
    {
     "data": {
      "text/plain": [
       "(11, 5)"
      ]
     },
     "execution_count": 5,
     "metadata": {},
     "output_type": "execute_result"
    }
   ],
   "source": [
    "tod.shape"
   ]
  },
  {
   "cell_type": "markdown",
   "id": "97fe46e1-05a3-4dfc-b933-99a48180b31b",
   "metadata": {},
   "source": [
    "Now I want a more detailed look at the dataframe, so I use .info fuction to see the information for each row and column."
   ]
  },
  {
   "cell_type": "code",
   "execution_count": 6,
   "id": "c8d0f47e-84e7-421f-8701-3ab41860fe84",
   "metadata": {},
   "outputs": [
    {
     "data": {
      "text/plain": [
       "<bound method DataFrame.info of     OBJECTID                                    NAME  \\\n",
       "0          7                                 SLAUSON   \n",
       "1          8                                FLORENCE   \n",
       "2          9                               FIRESTONE   \n",
       "3         12                               HAWTHORNE   \n",
       "4         13                        AVIATION / I-105   \n",
       "5         14                            SIERRA MADRE   \n",
       "6         15                                 DEL AMO   \n",
       "7         17                3RD STREET SPECIFIC PLAN   \n",
       "8         20           WILLOWBROOK TOD SPECIFIC PLAN   \n",
       "9         21           WEST CARSON TOD SPECIFIC PLAN   \n",
       "10        22  CONNECT SOUTHWEST LA TOD SPECIFIC PLAN   \n",
       "\n",
       "                                       FULL_NAME    LINE  \\\n",
       "0                          TOD:  SLAUSON STATION    BLUE   \n",
       "1                         TOD:  FLORENCE STATION    BLUE   \n",
       "2                        TOD:  FIRESTONE STATION    BLUE   \n",
       "3                        TOD:  HAWTHORNE STATION   GREEN   \n",
       "4                         TOD:  AVIATION STATION   GREEN   \n",
       "5                     TOD:  SIERRA MADRE STATION    GOLD   \n",
       "6                          TOD:  DEL AMO STATION    BLUE   \n",
       "7               TOD:  THIRD STREET SPECIFIC PLAN    GOLD   \n",
       "8                TOD:  WILLOWBROOK SPECIFIC PLAN    BLUE   \n",
       "9                              TOD:  WEST CARSON  SILVER   \n",
       "10  TOD:  CONNECT SOUTHWEST LA TOD SPECIFIC PLAN   GREEN   \n",
       "\n",
       "                                             geometry  \n",
       "0   POLYGON ((6487899.500 1821188.750, 6487982.425...  \n",
       "1   POLYGON ((6487925.000 1815903.250, 6488007.924...  \n",
       "2   POLYGON ((6487901.500 1810601.625, 6487984.425...  \n",
       "3   POLYGON ((6454786.500 1801028.375, 6454869.424...  \n",
       "4   POLYGON ((6446875.000 1799785.750, 6446957.925...  \n",
       "5   POLYGON ((6537085.133 1878803.042, 6537168.058...  \n",
       "6   POLYGON ((6497637.417 1769735.227, 6497720.342...  \n",
       "7   POLYGON ((6503649.967 1837362.185, 6503708.952...  \n",
       "8   POLYGON ((6492250.572 1794324.277, 6492295.494...  \n",
       "9   POLYGON ((6474457.139 1758563.102, 6474161.930...  \n",
       "10  POLYGON ((6469661.538 1799047.032, 6469784.916...  >"
      ]
     },
     "execution_count": 6,
     "metadata": {},
     "output_type": "execute_result"
    }
   ],
   "source": [
    "tod.info"
   ]
  },
  {
   "cell_type": "markdown",
   "id": "1018ceb4-d184-43a7-a8be-f5264f65849f",
   "metadata": {},
   "source": [
    "The shapefile I imported to python is a geodataframe."
   ]
  },
  {
   "cell_type": "code",
   "execution_count": 7,
   "id": "66ea0dfe-4399-427b-a4ed-d14b2233d8db",
   "metadata": {},
   "outputs": [
    {
     "data": {
      "text/plain": [
       "geopandas.geodataframe.GeoDataFrame"
      ]
     },
     "execution_count": 7,
     "metadata": {},
     "output_type": "execute_result"
    }
   ],
   "source": [
    "type(tod)"
   ]
  },
  {
   "cell_type": "markdown",
   "id": "48aab86f-a75f-45df-a2f8-d5c0991736f2",
   "metadata": {},
   "source": [
    "I'm using .head() function to take a look at the first five rows of the data."
   ]
  },
  {
   "cell_type": "code",
   "execution_count": 8,
   "id": "428b301f-a048-494b-8476-452303bb1b56",
   "metadata": {},
   "outputs": [
    {
     "data": {
      "text/html": [
       "<div>\n",
       "<style scoped>\n",
       "    .dataframe tbody tr th:only-of-type {\n",
       "        vertical-align: middle;\n",
       "    }\n",
       "\n",
       "    .dataframe tbody tr th {\n",
       "        vertical-align: top;\n",
       "    }\n",
       "\n",
       "    .dataframe thead th {\n",
       "        text-align: right;\n",
       "    }\n",
       "</style>\n",
       "<table border=\"1\" class=\"dataframe\">\n",
       "  <thead>\n",
       "    <tr style=\"text-align: right;\">\n",
       "      <th></th>\n",
       "      <th>OBJECTID</th>\n",
       "      <th>NAME</th>\n",
       "      <th>FULL_NAME</th>\n",
       "      <th>LINE</th>\n",
       "      <th>geometry</th>\n",
       "    </tr>\n",
       "  </thead>\n",
       "  <tbody>\n",
       "    <tr>\n",
       "      <th>0</th>\n",
       "      <td>7</td>\n",
       "      <td>SLAUSON</td>\n",
       "      <td>TOD:  SLAUSON STATION</td>\n",
       "      <td>BLUE</td>\n",
       "      <td>POLYGON ((6487899.500 1821188.750, 6487982.425...</td>\n",
       "    </tr>\n",
       "    <tr>\n",
       "      <th>1</th>\n",
       "      <td>8</td>\n",
       "      <td>FLORENCE</td>\n",
       "      <td>TOD:  FLORENCE STATION</td>\n",
       "      <td>BLUE</td>\n",
       "      <td>POLYGON ((6487925.000 1815903.250, 6488007.924...</td>\n",
       "    </tr>\n",
       "    <tr>\n",
       "      <th>2</th>\n",
       "      <td>9</td>\n",
       "      <td>FIRESTONE</td>\n",
       "      <td>TOD:  FIRESTONE STATION</td>\n",
       "      <td>BLUE</td>\n",
       "      <td>POLYGON ((6487901.500 1810601.625, 6487984.425...</td>\n",
       "    </tr>\n",
       "    <tr>\n",
       "      <th>3</th>\n",
       "      <td>12</td>\n",
       "      <td>HAWTHORNE</td>\n",
       "      <td>TOD:  HAWTHORNE STATION</td>\n",
       "      <td>GREEN</td>\n",
       "      <td>POLYGON ((6454786.500 1801028.375, 6454869.424...</td>\n",
       "    </tr>\n",
       "    <tr>\n",
       "      <th>4</th>\n",
       "      <td>13</td>\n",
       "      <td>AVIATION / I-105</td>\n",
       "      <td>TOD:  AVIATION STATION</td>\n",
       "      <td>GREEN</td>\n",
       "      <td>POLYGON ((6446875.000 1799785.750, 6446957.925...</td>\n",
       "    </tr>\n",
       "  </tbody>\n",
       "</table>\n",
       "</div>"
      ],
      "text/plain": [
       "   OBJECTID              NAME                FULL_NAME   LINE  \\\n",
       "0         7           SLAUSON    TOD:  SLAUSON STATION   BLUE   \n",
       "1         8          FLORENCE   TOD:  FLORENCE STATION   BLUE   \n",
       "2         9         FIRESTONE  TOD:  FIRESTONE STATION   BLUE   \n",
       "3        12         HAWTHORNE  TOD:  HAWTHORNE STATION  GREEN   \n",
       "4        13  AVIATION / I-105   TOD:  AVIATION STATION  GREEN   \n",
       "\n",
       "                                            geometry  \n",
       "0  POLYGON ((6487899.500 1821188.750, 6487982.425...  \n",
       "1  POLYGON ((6487925.000 1815903.250, 6488007.924...  \n",
       "2  POLYGON ((6487901.500 1810601.625, 6487984.425...  \n",
       "3  POLYGON ((6454786.500 1801028.375, 6454869.424...  \n",
       "4  POLYGON ((6446875.000 1799785.750, 6446957.925...  "
      ]
     },
     "execution_count": 8,
     "metadata": {},
     "output_type": "execute_result"
    }
   ],
   "source": [
    "tod.head()"
   ]
  },
  {
   "cell_type": "markdown",
   "id": "b8a201a9-a0c7-4c5c-91d1-939e9a56b0ac",
   "metadata": {},
   "source": [
    "Then I'm going to use .tail() to look at the last five rows. From the info function, I already know there are 11 rows, and the last 5 is from 6 to 10."
   ]
  },
  {
   "cell_type": "code",
   "execution_count": 9,
   "id": "97331523-388d-4769-b513-a8926bb1c83c",
   "metadata": {},
   "outputs": [
    {
     "data": {
      "text/html": [
       "<div>\n",
       "<style scoped>\n",
       "    .dataframe tbody tr th:only-of-type {\n",
       "        vertical-align: middle;\n",
       "    }\n",
       "\n",
       "    .dataframe tbody tr th {\n",
       "        vertical-align: top;\n",
       "    }\n",
       "\n",
       "    .dataframe thead th {\n",
       "        text-align: right;\n",
       "    }\n",
       "</style>\n",
       "<table border=\"1\" class=\"dataframe\">\n",
       "  <thead>\n",
       "    <tr style=\"text-align: right;\">\n",
       "      <th></th>\n",
       "      <th>OBJECTID</th>\n",
       "      <th>NAME</th>\n",
       "      <th>FULL_NAME</th>\n",
       "      <th>LINE</th>\n",
       "      <th>geometry</th>\n",
       "    </tr>\n",
       "  </thead>\n",
       "  <tbody>\n",
       "    <tr>\n",
       "      <th>6</th>\n",
       "      <td>15</td>\n",
       "      <td>DEL AMO</td>\n",
       "      <td>TOD:  DEL AMO STATION</td>\n",
       "      <td>BLUE</td>\n",
       "      <td>POLYGON ((6497637.417 1769735.227, 6497720.342...</td>\n",
       "    </tr>\n",
       "    <tr>\n",
       "      <th>7</th>\n",
       "      <td>17</td>\n",
       "      <td>3RD STREET SPECIFIC PLAN</td>\n",
       "      <td>TOD:  THIRD STREET SPECIFIC PLAN</td>\n",
       "      <td>GOLD</td>\n",
       "      <td>POLYGON ((6503649.967 1837362.185, 6503708.952...</td>\n",
       "    </tr>\n",
       "    <tr>\n",
       "      <th>8</th>\n",
       "      <td>20</td>\n",
       "      <td>WILLOWBROOK TOD SPECIFIC PLAN</td>\n",
       "      <td>TOD:  WILLOWBROOK SPECIFIC PLAN</td>\n",
       "      <td>BLUE</td>\n",
       "      <td>POLYGON ((6492250.572 1794324.277, 6492295.494...</td>\n",
       "    </tr>\n",
       "    <tr>\n",
       "      <th>9</th>\n",
       "      <td>21</td>\n",
       "      <td>WEST CARSON TOD SPECIFIC PLAN</td>\n",
       "      <td>TOD:  WEST CARSON</td>\n",
       "      <td>SILVER</td>\n",
       "      <td>POLYGON ((6474457.139 1758563.102, 6474161.930...</td>\n",
       "    </tr>\n",
       "    <tr>\n",
       "      <th>10</th>\n",
       "      <td>22</td>\n",
       "      <td>CONNECT SOUTHWEST LA TOD SPECIFIC PLAN</td>\n",
       "      <td>TOD:  CONNECT SOUTHWEST LA TOD SPECIFIC PLAN</td>\n",
       "      <td>GREEN</td>\n",
       "      <td>POLYGON ((6469661.538 1799047.032, 6469784.916...</td>\n",
       "    </tr>\n",
       "  </tbody>\n",
       "</table>\n",
       "</div>"
      ],
      "text/plain": [
       "    OBJECTID                                    NAME  \\\n",
       "6         15                                 DEL AMO   \n",
       "7         17                3RD STREET SPECIFIC PLAN   \n",
       "8         20           WILLOWBROOK TOD SPECIFIC PLAN   \n",
       "9         21           WEST CARSON TOD SPECIFIC PLAN   \n",
       "10        22  CONNECT SOUTHWEST LA TOD SPECIFIC PLAN   \n",
       "\n",
       "                                       FULL_NAME    LINE  \\\n",
       "6                          TOD:  DEL AMO STATION    BLUE   \n",
       "7               TOD:  THIRD STREET SPECIFIC PLAN    GOLD   \n",
       "8                TOD:  WILLOWBROOK SPECIFIC PLAN    BLUE   \n",
       "9                              TOD:  WEST CARSON  SILVER   \n",
       "10  TOD:  CONNECT SOUTHWEST LA TOD SPECIFIC PLAN   GREEN   \n",
       "\n",
       "                                             geometry  \n",
       "6   POLYGON ((6497637.417 1769735.227, 6497720.342...  \n",
       "7   POLYGON ((6503649.967 1837362.185, 6503708.952...  \n",
       "8   POLYGON ((6492250.572 1794324.277, 6492295.494...  \n",
       "9   POLYGON ((6474457.139 1758563.102, 6474161.930...  \n",
       "10  POLYGON ((6469661.538 1799047.032, 6469784.916...  "
      ]
     },
     "execution_count": 9,
     "metadata": {},
     "output_type": "execute_result"
    }
   ],
   "source": [
    "tod.tail()"
   ]
  },
  {
   "cell_type": "markdown",
   "id": "cc4e1f15-4ab0-4568-a053-253507b1f0f5",
   "metadata": {},
   "source": [
    "I use tod.dtypes to see the datatypes of each row, and most of them are objects, which are a mixed of numbers and strings. There is also a geometry data, which is in GIS."
   ]
  },
  {
   "cell_type": "code",
   "execution_count": 10,
   "id": "a268b7e9-fb1e-4aa8-8619-3276f2e2d9f8",
   "metadata": {},
   "outputs": [
    {
     "data": {
      "text/plain": [
       "OBJECTID        int64\n",
       "NAME           object\n",
       "FULL_NAME      object\n",
       "LINE           object\n",
       "geometry     geometry\n",
       "dtype: object"
      ]
     },
     "execution_count": 10,
     "metadata": {},
     "output_type": "execute_result"
    }
   ],
   "source": [
    "tod.dtypes"
   ]
  },
  {
   "cell_type": "markdown",
   "id": "387aae93-8ad8-4b3d-946d-ffd1fbee2f7a",
   "metadata": {},
   "source": [
    "More information from row 0 to 10. From the non-null count column we see that all 11 rows of data have values in them."
   ]
  },
  {
   "cell_type": "code",
   "execution_count": 11,
   "id": "9eb21d59-8405-4988-8f86-0ec85d086ff5",
   "metadata": {},
   "outputs": [
    {
     "name": "stdout",
     "output_type": "stream",
     "text": [
      "<class 'geopandas.geodataframe.GeoDataFrame'>\n",
      "RangeIndex: 11 entries, 0 to 10\n",
      "Data columns (total 5 columns):\n",
      " #   Column     Non-Null Count  Dtype   \n",
      "---  ------     --------------  -----   \n",
      " 0   OBJECTID   11 non-null     int64   \n",
      " 1   NAME       11 non-null     object  \n",
      " 2   FULL_NAME  11 non-null     object  \n",
      " 3   LINE       11 non-null     object  \n",
      " 4   geometry   11 non-null     geometry\n",
      "dtypes: geometry(1), int64(1), object(3)\n",
      "memory usage: 568.0+ bytes\n"
     ]
    }
   ],
   "source": [
    "tod.info()"
   ]
  },
  {
   "cell_type": "markdown",
   "id": "edf73d1a-a203-487e-8366-fada8c7e7965",
   "metadata": {},
   "source": [
    "Now I want to put all the columns into a list, and we see that the list consists of 5 variables."
   ]
  },
  {
   "cell_type": "code",
   "execution_count": 12,
   "id": "eafdaa9a-f545-45f9-917b-1e924323feea",
   "metadata": {},
   "outputs": [
    {
     "data": {
      "text/plain": [
       "['OBJECTID', 'NAME', 'FULL_NAME', 'LINE', 'geometry']"
      ]
     },
     "execution_count": 12,
     "metadata": {},
     "output_type": "execute_result"
    }
   ],
   "source": [
    "tod.columns.to_list()"
   ]
  },
  {
   "cell_type": "markdown",
   "id": "00929db0-90aa-4ec7-9bf6-cbba0d8b88e1",
   "metadata": {},
   "source": [
    "Now I want to specifically look at the Line column, to later see how many transit oriented districts are in each line and then later graph a bar plot."
   ]
  },
  {
   "cell_type": "markdown",
   "id": "53e2edde-af77-4bb7-9106-9c0e762bd28a",
   "metadata": {},
   "source": [
    "Let's see the first 5 samples of line column."
   ]
  },
  {
   "cell_type": "code",
   "execution_count": 13,
   "id": "1ea50c83-18d3-4c9a-82e3-6d68f8c2f9ae",
   "metadata": {},
   "outputs": [
    {
     "data": {
      "text/plain": [
       "6      BLUE\n",
       "10    GREEN\n",
       "3     GREEN\n",
       "4     GREEN\n",
       "0      BLUE\n",
       "Name: LINE, dtype: object"
      ]
     },
     "execution_count": 13,
     "metadata": {},
     "output_type": "execute_result"
    }
   ],
   "source": [
    "tod.LINE.sample(5)"
   ]
  },
  {
   "cell_type": "markdown",
   "id": "e5f0b1a7-8f7b-433a-b032-34b8193b7337",
   "metadata": {},
   "source": [
    "words"
   ]
  },
  {
   "cell_type": "markdown",
   "id": "7b559866-b709-4260-a019-f5c769f05efa",
   "metadata": {},
   "source": [
    "I use .value_counts() function to count TODs according to each line."
   ]
  },
  {
   "cell_type": "code",
   "execution_count": 14,
   "id": "2a17612f-30c3-48ec-84cc-4e4471955043",
   "metadata": {},
   "outputs": [
    {
     "data": {
      "text/plain": [
       "BLUE      5\n",
       "GREEN     3\n",
       "GOLD      2\n",
       "SILVER    1\n",
       "Name: LINE, dtype: int64"
      ]
     },
     "execution_count": 14,
     "metadata": {},
     "output_type": "execute_result"
    }
   ],
   "source": [
    "tod.LINE.value_counts()"
   ]
  },
  {
   "cell_type": "markdown",
   "id": "4901acc3-632f-4ff5-893d-edb15e1381d9",
   "metadata": {},
   "source": [
    "Save it as a new variable, tod_line"
   ]
  },
  {
   "cell_type": "code",
   "execution_count": 15,
   "id": "71d01595-ba36-41d7-baeb-1948ba3bc06e",
   "metadata": {},
   "outputs": [],
   "source": [
    "tod_line=tod.LINE.value_counts()"
   ]
  },
  {
   "cell_type": "markdown",
   "id": "4a2b4a4e-e6dc-4ace-8ec5-b66da2f00438",
   "metadata": {},
   "source": [
    "present tod_line to see the new dataset"
   ]
  },
  {
   "cell_type": "code",
   "execution_count": 16,
   "id": "d89c26f6-5c4c-4d00-9629-7362b0ff8540",
   "metadata": {},
   "outputs": [
    {
     "data": {
      "text/plain": [
       "BLUE      5\n",
       "GREEN     3\n",
       "GOLD      2\n",
       "SILVER    1\n",
       "Name: LINE, dtype: int64"
      ]
     },
     "execution_count": 16,
     "metadata": {},
     "output_type": "execute_result"
    }
   ],
   "source": [
    "tod_line"
   ]
  },
  {
   "cell_type": "markdown",
   "id": "98c07b29-1da1-4bec-9f3f-5a52fc857f45",
   "metadata": {},
   "source": [
    "The type of tod_line is a series."
   ]
  },
  {
   "cell_type": "code",
   "execution_count": 17,
   "id": "4974611e-1bec-4c39-983e-1fadc4dcf030",
   "metadata": {},
   "outputs": [
    {
     "data": {
      "text/plain": [
       "pandas.core.series.Series"
      ]
     },
     "execution_count": 17,
     "metadata": {},
     "output_type": "execute_result"
    }
   ],
   "source": [
    "type(tod_line)"
   ]
  },
  {
   "cell_type": "markdown",
   "id": "cb7fd2bd-c074-4184-887b-fbba32089384",
   "metadata": {},
   "source": [
    "I want to convert this line data into a dataframe for graphing later."
   ]
  },
  {
   "cell_type": "code",
   "execution_count": 18,
   "id": "d27180c2-6f20-43fa-a946-c1fddf7261b0",
   "metadata": {},
   "outputs": [
    {
     "data": {
      "text/html": [
       "<div>\n",
       "<style scoped>\n",
       "    .dataframe tbody tr th:only-of-type {\n",
       "        vertical-align: middle;\n",
       "    }\n",
       "\n",
       "    .dataframe tbody tr th {\n",
       "        vertical-align: top;\n",
       "    }\n",
       "\n",
       "    .dataframe thead th {\n",
       "        text-align: right;\n",
       "    }\n",
       "</style>\n",
       "<table border=\"1\" class=\"dataframe\">\n",
       "  <thead>\n",
       "    <tr style=\"text-align: right;\">\n",
       "      <th></th>\n",
       "      <th>index</th>\n",
       "      <th>LINE</th>\n",
       "    </tr>\n",
       "  </thead>\n",
       "  <tbody>\n",
       "    <tr>\n",
       "      <th>0</th>\n",
       "      <td>BLUE</td>\n",
       "      <td>5</td>\n",
       "    </tr>\n",
       "    <tr>\n",
       "      <th>1</th>\n",
       "      <td>GREEN</td>\n",
       "      <td>3</td>\n",
       "    </tr>\n",
       "    <tr>\n",
       "      <th>2</th>\n",
       "      <td>GOLD</td>\n",
       "      <td>2</td>\n",
       "    </tr>\n",
       "    <tr>\n",
       "      <th>3</th>\n",
       "      <td>SILVER</td>\n",
       "      <td>1</td>\n",
       "    </tr>\n",
       "  </tbody>\n",
       "</table>\n",
       "</div>"
      ],
      "text/plain": [
       "    index  LINE\n",
       "0    BLUE     5\n",
       "1   GREEN     3\n",
       "2    GOLD     2\n",
       "3  SILVER     1"
      ]
     },
     "execution_count": 18,
     "metadata": {},
     "output_type": "execute_result"
    }
   ],
   "source": [
    "tod_line = tod_line.reset_index()\n",
    "tod_line"
   ]
  },
  {
   "cell_type": "code",
   "execution_count": 19,
   "id": "119b4f53-2558-4f6b-9a2e-397339c4f5f5",
   "metadata": {},
   "outputs": [
    {
     "data": {
      "text/plain": [
       "pandas.core.frame.DataFrame"
      ]
     },
     "execution_count": 19,
     "metadata": {},
     "output_type": "execute_result"
    }
   ],
   "source": [
    "type(tod_line)"
   ]
  },
  {
   "cell_type": "markdown",
   "id": "ddacbfe9-7bcd-41dc-9cfe-e79850805bde",
   "metadata": {},
   "source": [
    "The result transformed from series to dataframe."
   ]
  },
  {
   "cell_type": "markdown",
   "id": "d453b62b-6369-4101-a798-859b66fa5dd3",
   "metadata": {},
   "source": [
    "We see that the column names of the dataframe is messed up, it should be LINE above blue, green, gold..."
   ]
  },
  {
   "cell_type": "markdown",
   "id": "fc09b2a3-9a41-4f82-af06-4125b09d977a",
   "metadata": {},
   "source": [
    "I use columns.to_list() function to list the columns I have at the moment."
   ]
  },
  {
   "cell_type": "code",
   "execution_count": 20,
   "id": "89182d23-15a4-428b-a8f5-375bbdca4590",
   "metadata": {},
   "outputs": [
    {
     "data": {
      "text/plain": [
       "['index', 'LINE']"
      ]
     },
     "execution_count": 20,
     "metadata": {},
     "output_type": "execute_result"
    }
   ],
   "source": [
    "tod_line.columns.to_list()"
   ]
  },
  {
   "cell_type": "markdown",
   "id": "fc1e6c82-f5a3-48c5-891c-ff494a21dab7",
   "metadata": {},
   "source": [
    "I then change the columns to line and count."
   ]
  },
  {
   "cell_type": "code",
   "execution_count": 21,
   "id": "1da464f5-2906-4a99-a33f-4530ed76ec00",
   "metadata": {},
   "outputs": [],
   "source": [
    "tod_line.columns=['line','count']"
   ]
  },
  {
   "cell_type": "code",
   "execution_count": 22,
   "id": "13e28881-d326-48c3-b663-9e1622b2fdc1",
   "metadata": {},
   "outputs": [
    {
     "data": {
      "text/html": [
       "<div>\n",
       "<style scoped>\n",
       "    .dataframe tbody tr th:only-of-type {\n",
       "        vertical-align: middle;\n",
       "    }\n",
       "\n",
       "    .dataframe tbody tr th {\n",
       "        vertical-align: top;\n",
       "    }\n",
       "\n",
       "    .dataframe thead th {\n",
       "        text-align: right;\n",
       "    }\n",
       "</style>\n",
       "<table border=\"1\" class=\"dataframe\">\n",
       "  <thead>\n",
       "    <tr style=\"text-align: right;\">\n",
       "      <th></th>\n",
       "      <th>line</th>\n",
       "      <th>count</th>\n",
       "    </tr>\n",
       "  </thead>\n",
       "  <tbody>\n",
       "    <tr>\n",
       "      <th>0</th>\n",
       "      <td>BLUE</td>\n",
       "      <td>5</td>\n",
       "    </tr>\n",
       "    <tr>\n",
       "      <th>1</th>\n",
       "      <td>GREEN</td>\n",
       "      <td>3</td>\n",
       "    </tr>\n",
       "    <tr>\n",
       "      <th>2</th>\n",
       "      <td>GOLD</td>\n",
       "      <td>2</td>\n",
       "    </tr>\n",
       "    <tr>\n",
       "      <th>3</th>\n",
       "      <td>SILVER</td>\n",
       "      <td>1</td>\n",
       "    </tr>\n",
       "  </tbody>\n",
       "</table>\n",
       "</div>"
      ],
      "text/plain": [
       "     line  count\n",
       "0    BLUE      5\n",
       "1   GREEN      3\n",
       "2    GOLD      2\n",
       "3  SILVER      1"
      ]
     },
     "execution_count": 22,
     "metadata": {},
     "output_type": "execute_result"
    }
   ],
   "source": [
    "tod_line"
   ]
  },
  {
   "cell_type": "markdown",
   "id": "18f32ef2-d337-4a96-96a3-f04d13f4bf55",
   "metadata": {},
   "source": [
    "In order to visualize the outcome, I use .plot() function to plot this dataframe."
   ]
  },
  {
   "cell_type": "code",
   "execution_count": 23,
   "id": "3f479d8b-e6a1-4979-b900-f59c030fecee",
   "metadata": {},
   "outputs": [
    {
     "data": {
      "text/plain": [
       "<AxesSubplot:>"
      ]
     },
     "execution_count": 23,
     "metadata": {},
     "output_type": "execute_result"
    },
    {
     "data": {
      "image/png": "[encoded data removed]",
      "text/plain": [
       "<Figure size 432x288 with 1 Axes>"
      ]
     },
     "metadata": {
      "needs_background": "light"
     },
     "output_type": "display_data"
    }
   ],
   "source": [
    "tod_line.plot()"
   ]
  },
  {
   "cell_type": "markdown",
   "id": "724becfc-9747-41f8-a5b0-36b5d45f98ce",
   "metadata": {},
   "source": [
    "We see a line graph, but let's add additional lables for x and y axis and also a title."
   ]
  },
  {
   "cell_type": "code",
   "execution_count": 24,
   "id": "f6f6d87b-dd24-4e42-a69e-6631b14b4642",
   "metadata": {},
   "outputs": [
    {
     "data": {
      "text/plain": [
       "<AxesSubplot:title={'center':'Number of Transit Oriented Districts per metro line'}, xlabel='line'>"
      ]
     },
     "execution_count": 24,
     "metadata": {},
     "output_type": "execute_result"
    },
    {
     "data": {
      "image/png": "[encoded data removed]",
      "text/plain": [
       "<Figure size 432x288 with 1 Axes>"
      ]
     },
     "metadata": {
      "needs_background": "light"
     },
     "output_type": "display_data"
    }
   ],
   "source": [
    "tod_line.plot.bar(x='line',y='count',title='Number of Transit Oriented Districts per metro line')"
   ]
  },
  {
   "cell_type": "markdown",
   "id": "91e7543b-a15c-42f7-936b-690d208c9217",
   "metadata": {},
   "source": [
    "From the above bar graph, we see that blue line has the most TODs whereas silver line has the least."
   ]
  },
  {
   "cell_type": "markdown",
   "id": "e38600c0-4f4d-41cf-ba4d-df71bb3a6d9b",
   "metadata": {},
   "source": [
    "If I think the original data has too many columns, and some are not useful, I can trim it to smaller dataset."
   ]
  },
  {
   "cell_type": "code",
   "execution_count": 25,
   "id": "ff60b23a-2acb-4e29-b349-cb110050c86f",
   "metadata": {},
   "outputs": [
    {
     "name": "stdout",
     "output_type": "stream",
     "text": [
      "<class 'geopandas.geodataframe.GeoDataFrame'>\n",
      "RangeIndex: 11 entries, 0 to 10\n",
      "Data columns (total 5 columns):\n",
      " #   Column     Non-Null Count  Dtype   \n",
      "---  ------     --------------  -----   \n",
      " 0   OBJECTID   11 non-null     int64   \n",
      " 1   NAME       11 non-null     object  \n",
      " 2   FULL_NAME  11 non-null     object  \n",
      " 3   LINE       11 non-null     object  \n",
      " 4   geometry   11 non-null     geometry\n",
      "dtypes: geometry(1), int64(1), object(3)\n",
      "memory usage: 568.0+ bytes\n"
     ]
    }
   ],
   "source": [
    "## use the .info() function to remind me what are the columns\n",
    "tod.info()"
   ]
  },
  {
   "cell_type": "markdown",
   "id": "208a84d4-d1cc-4023-a391-ddd795286b3a",
   "metadata": {},
   "source": [
    "I don't want 'project ID' and 'full name' these two columns, because ID doesn't mean anything right now and full name is repetitive with name. To remove these two columns, I'm going to create a new dataframe with my desired columns."
   ]
  },
  {
   "cell_type": "code",
   "execution_count": 26,
   "id": "8abdb1cb-901f-4134-9521-3b3c69ea3c2c",
   "metadata": {},
   "outputs": [
    {
     "data": {
      "text/html": [
       "<div>\n",
       "<style scoped>\n",
       "    .dataframe tbody tr th:only-of-type {\n",
       "        vertical-align: middle;\n",
       "    }\n",
       "\n",
       "    .dataframe tbody tr th {\n",
       "        vertical-align: top;\n",
       "    }\n",
       "\n",
       "    .dataframe thead th {\n",
       "        text-align: right;\n",
       "    }\n",
       "</style>\n",
       "<table border=\"1\" class=\"dataframe\">\n",
       "  <thead>\n",
       "    <tr style=\"text-align: right;\">\n",
       "      <th></th>\n",
       "      <th>NAME</th>\n",
       "      <th>LINE</th>\n",
       "      <th>geometry</th>\n",
       "    </tr>\n",
       "  </thead>\n",
       "  <tbody>\n",
       "    <tr>\n",
       "      <th>0</th>\n",
       "      <td>SLAUSON</td>\n",
       "      <td>BLUE</td>\n",
       "      <td>POLYGON ((6487899.500 1821188.750, 6487982.425...</td>\n",
       "    </tr>\n",
       "    <tr>\n",
       "      <th>1</th>\n",
       "      <td>FLORENCE</td>\n",
       "      <td>BLUE</td>\n",
       "      <td>POLYGON ((6487925.000 1815903.250, 6488007.924...</td>\n",
       "    </tr>\n",
       "    <tr>\n",
       "      <th>2</th>\n",
       "      <td>FIRESTONE</td>\n",
       "      <td>BLUE</td>\n",
       "      <td>POLYGON ((6487901.500 1810601.625, 6487984.425...</td>\n",
       "    </tr>\n",
       "    <tr>\n",
       "      <th>3</th>\n",
       "      <td>HAWTHORNE</td>\n",
       "      <td>GREEN</td>\n",
       "      <td>POLYGON ((6454786.500 1801028.375, 6454869.424...</td>\n",
       "    </tr>\n",
       "    <tr>\n",
       "      <th>4</th>\n",
       "      <td>AVIATION / I-105</td>\n",
       "      <td>GREEN</td>\n",
       "      <td>POLYGON ((6446875.000 1799785.750, 6446957.925...</td>\n",
       "    </tr>\n",
       "    <tr>\n",
       "      <th>5</th>\n",
       "      <td>SIERRA MADRE</td>\n",
       "      <td>GOLD</td>\n",
       "      <td>POLYGON ((6537085.133 1878803.042, 6537168.058...</td>\n",
       "    </tr>\n",
       "    <tr>\n",
       "      <th>6</th>\n",
       "      <td>DEL AMO</td>\n",
       "      <td>BLUE</td>\n",
       "      <td>POLYGON ((6497637.417 1769735.227, 6497720.342...</td>\n",
       "    </tr>\n",
       "    <tr>\n",
       "      <th>7</th>\n",
       "      <td>3RD STREET SPECIFIC PLAN</td>\n",
       "      <td>GOLD</td>\n",
       "      <td>POLYGON ((6503649.967 1837362.185, 6503708.952...</td>\n",
       "    </tr>\n",
       "    <tr>\n",
       "      <th>8</th>\n",
       "      <td>WILLOWBROOK TOD SPECIFIC PLAN</td>\n",
       "      <td>BLUE</td>\n",
       "      <td>POLYGON ((6492250.572 1794324.277, 6492295.494...</td>\n",
       "    </tr>\n",
       "    <tr>\n",
       "      <th>9</th>\n",
       "      <td>WEST CARSON TOD SPECIFIC PLAN</td>\n",
       "      <td>SILVER</td>\n",
       "      <td>POLYGON ((6474457.139 1758563.102, 6474161.930...</td>\n",
       "    </tr>\n",
       "    <tr>\n",
       "      <th>10</th>\n",
       "      <td>CONNECT SOUTHWEST LA TOD SPECIFIC PLAN</td>\n",
       "      <td>GREEN</td>\n",
       "      <td>POLYGON ((6469661.538 1799047.032, 6469784.916...</td>\n",
       "    </tr>\n",
       "  </tbody>\n",
       "</table>\n",
       "</div>"
      ],
      "text/plain": [
       "                                      NAME    LINE  \\\n",
       "0                                  SLAUSON    BLUE   \n",
       "1                                 FLORENCE    BLUE   \n",
       "2                                FIRESTONE    BLUE   \n",
       "3                                HAWTHORNE   GREEN   \n",
       "4                         AVIATION / I-105   GREEN   \n",
       "5                             SIERRA MADRE    GOLD   \n",
       "6                                  DEL AMO    BLUE   \n",
       "7                 3RD STREET SPECIFIC PLAN    GOLD   \n",
       "8            WILLOWBROOK TOD SPECIFIC PLAN    BLUE   \n",
       "9            WEST CARSON TOD SPECIFIC PLAN  SILVER   \n",
       "10  CONNECT SOUTHWEST LA TOD SPECIFIC PLAN   GREEN   \n",
       "\n",
       "                                             geometry  \n",
       "0   POLYGON ((6487899.500 1821188.750, 6487982.425...  \n",
       "1   POLYGON ((6487925.000 1815903.250, 6488007.924...  \n",
       "2   POLYGON ((6487901.500 1810601.625, 6487984.425...  \n",
       "3   POLYGON ((6454786.500 1801028.375, 6454869.424...  \n",
       "4   POLYGON ((6446875.000 1799785.750, 6446957.925...  \n",
       "5   POLYGON ((6537085.133 1878803.042, 6537168.058...  \n",
       "6   POLYGON ((6497637.417 1769735.227, 6497720.342...  \n",
       "7   POLYGON ((6503649.967 1837362.185, 6503708.952...  \n",
       "8   POLYGON ((6492250.572 1794324.277, 6492295.494...  \n",
       "9   POLYGON ((6474457.139 1758563.102, 6474161.930...  \n",
       "10  POLYGON ((6469661.538 1799047.032, 6469784.916...  "
      ]
     },
     "execution_count": 26,
     "metadata": {},
     "output_type": "execute_result"
    }
   ],
   "source": [
    "tod[['NAME','LINE','geometry']]"
   ]
  },
  {
   "cell_type": "markdown",
   "id": "adf482ea-e929-4dbd-993b-710e951852d9",
   "metadata": {},
   "source": [
    "I'm going to declare this dataframe as tod_new. First thing is to save the desired columns."
   ]
  },
  {
   "cell_type": "code",
   "execution_count": 27,
   "id": "82781536-1cb9-4f27-beb3-8bd7aa546b97",
   "metadata": {},
   "outputs": [],
   "source": [
    "desired_columns=['NAME','LINE','geometry']"
   ]
  },
  {
   "cell_type": "code",
   "execution_count": 28,
   "id": "00a60b65-37b2-417c-9c95-04437a82eac6",
   "metadata": {},
   "outputs": [],
   "source": [
    "tod_new=tod[desired_columns].copy()"
   ]
  },
  {
   "cell_type": "markdown",
   "id": "c3d92aba-5ef2-489b-8f98-906de9de6768",
   "metadata": {},
   "source": [
    "Print out tod_new."
   ]
  },
  {
   "cell_type": "code",
   "execution_count": 29,
   "id": "12eb65a5-fe3d-4073-b48e-a9532ea8e437",
   "metadata": {},
   "outputs": [
    {
     "data": {
      "text/html": [
       "<div>\n",
       "<style scoped>\n",
       "    .dataframe tbody tr th:only-of-type {\n",
       "        vertical-align: middle;\n",
       "    }\n",
       "\n",
       "    .dataframe tbody tr th {\n",
       "        vertical-align: top;\n",
       "    }\n",
       "\n",
       "    .dataframe thead th {\n",
       "        text-align: right;\n",
       "    }\n",
       "</style>\n",
       "<table border=\"1\" class=\"dataframe\">\n",
       "  <thead>\n",
       "    <tr style=\"text-align: right;\">\n",
       "      <th></th>\n",
       "      <th>NAME</th>\n",
       "      <th>LINE</th>\n",
       "      <th>geometry</th>\n",
       "    </tr>\n",
       "  </thead>\n",
       "  <tbody>\n",
       "    <tr>\n",
       "      <th>0</th>\n",
       "      <td>SLAUSON</td>\n",
       "      <td>BLUE</td>\n",
       "      <td>POLYGON ((6487899.500 1821188.750, 6487982.425...</td>\n",
       "    </tr>\n",
       "    <tr>\n",
       "      <th>1</th>\n",
       "      <td>FLORENCE</td>\n",
       "      <td>BLUE</td>\n",
       "      <td>POLYGON ((6487925.000 1815903.250, 6488007.924...</td>\n",
       "    </tr>\n",
       "    <tr>\n",
       "      <th>2</th>\n",
       "      <td>FIRESTONE</td>\n",
       "      <td>BLUE</td>\n",
       "      <td>POLYGON ((6487901.500 1810601.625, 6487984.425...</td>\n",
       "    </tr>\n",
       "    <tr>\n",
       "      <th>3</th>\n",
       "      <td>HAWTHORNE</td>\n",
       "      <td>GREEN</td>\n",
       "      <td>POLYGON ((6454786.500 1801028.375, 6454869.424...</td>\n",
       "    </tr>\n",
       "    <tr>\n",
       "      <th>4</th>\n",
       "      <td>AVIATION / I-105</td>\n",
       "      <td>GREEN</td>\n",
       "      <td>POLYGON ((6446875.000 1799785.750, 6446957.925...</td>\n",
       "    </tr>\n",
       "    <tr>\n",
       "      <th>5</th>\n",
       "      <td>SIERRA MADRE</td>\n",
       "      <td>GOLD</td>\n",
       "      <td>POLYGON ((6537085.133 1878803.042, 6537168.058...</td>\n",
       "    </tr>\n",
       "    <tr>\n",
       "      <th>6</th>\n",
       "      <td>DEL AMO</td>\n",
       "      <td>BLUE</td>\n",
       "      <td>POLYGON ((6497637.417 1769735.227, 6497720.342...</td>\n",
       "    </tr>\n",
       "    <tr>\n",
       "      <th>7</th>\n",
       "      <td>3RD STREET SPECIFIC PLAN</td>\n",
       "      <td>GOLD</td>\n",
       "      <td>POLYGON ((6503649.967 1837362.185, 6503708.952...</td>\n",
       "    </tr>\n",
       "    <tr>\n",
       "      <th>8</th>\n",
       "      <td>WILLOWBROOK TOD SPECIFIC PLAN</td>\n",
       "      <td>BLUE</td>\n",
       "      <td>POLYGON ((6492250.572 1794324.277, 6492295.494...</td>\n",
       "    </tr>\n",
       "    <tr>\n",
       "      <th>9</th>\n",
       "      <td>WEST CARSON TOD SPECIFIC PLAN</td>\n",
       "      <td>SILVER</td>\n",
       "      <td>POLYGON ((6474457.139 1758563.102, 6474161.930...</td>\n",
       "    </tr>\n",
       "    <tr>\n",
       "      <th>10</th>\n",
       "      <td>CONNECT SOUTHWEST LA TOD SPECIFIC PLAN</td>\n",
       "      <td>GREEN</td>\n",
       "      <td>POLYGON ((6469661.538 1799047.032, 6469784.916...</td>\n",
       "    </tr>\n",
       "  </tbody>\n",
       "</table>\n",
       "</div>"
      ],
      "text/plain": [
       "                                      NAME    LINE  \\\n",
       "0                                  SLAUSON    BLUE   \n",
       "1                                 FLORENCE    BLUE   \n",
       "2                                FIRESTONE    BLUE   \n",
       "3                                HAWTHORNE   GREEN   \n",
       "4                         AVIATION / I-105   GREEN   \n",
       "5                             SIERRA MADRE    GOLD   \n",
       "6                                  DEL AMO    BLUE   \n",
       "7                 3RD STREET SPECIFIC PLAN    GOLD   \n",
       "8            WILLOWBROOK TOD SPECIFIC PLAN    BLUE   \n",
       "9            WEST CARSON TOD SPECIFIC PLAN  SILVER   \n",
       "10  CONNECT SOUTHWEST LA TOD SPECIFIC PLAN   GREEN   \n",
       "\n",
       "                                             geometry  \n",
       "0   POLYGON ((6487899.500 1821188.750, 6487982.425...  \n",
       "1   POLYGON ((6487925.000 1815903.250, 6488007.924...  \n",
       "2   POLYGON ((6487901.500 1810601.625, 6487984.425...  \n",
       "3   POLYGON ((6454786.500 1801028.375, 6454869.424...  \n",
       "4   POLYGON ((6446875.000 1799785.750, 6446957.925...  \n",
       "5   POLYGON ((6537085.133 1878803.042, 6537168.058...  \n",
       "6   POLYGON ((6497637.417 1769735.227, 6497720.342...  \n",
       "7   POLYGON ((6503649.967 1837362.185, 6503708.952...  \n",
       "8   POLYGON ((6492250.572 1794324.277, 6492295.494...  \n",
       "9   POLYGON ((6474457.139 1758563.102, 6474161.930...  \n",
       "10  POLYGON ((6469661.538 1799047.032, 6469784.916...  "
      ]
     },
     "execution_count": 29,
     "metadata": {},
     "output_type": "execute_result"
    }
   ],
   "source": [
    "tod_new"
   ]
  },
  {
   "cell_type": "markdown",
   "id": "11e0bd6a-8db6-437e-b35c-5cebbbf0a3e9",
   "metadata": {},
   "source": [
    "We see the result that the dataframe has the only three columns I want."
   ]
  },
  {
   "cell_type": "markdown",
   "id": "c1114984-54bb-4866-9a24-e3dc84c4f779",
   "metadata": {},
   "source": [
    "Next is to use the query function to only see a subset of the data and create a new table for it. For this data, I want to only see the blue line."
   ]
  },
  {
   "cell_type": "code",
   "execution_count": 30,
   "id": "e0745780-4190-4844-b593-3d705655c083",
   "metadata": {},
   "outputs": [
    {
     "data": {
      "text/html": [
       "<div>\n",
       "<style scoped>\n",
       "    .dataframe tbody tr th:only-of-type {\n",
       "        vertical-align: middle;\n",
       "    }\n",
       "\n",
       "    .dataframe tbody tr th {\n",
       "        vertical-align: top;\n",
       "    }\n",
       "\n",
       "    .dataframe thead th {\n",
       "        text-align: right;\n",
       "    }\n",
       "</style>\n",
       "<table border=\"1\" class=\"dataframe\">\n",
       "  <thead>\n",
       "    <tr style=\"text-align: right;\">\n",
       "      <th></th>\n",
       "      <th>NAME</th>\n",
       "      <th>LINE</th>\n",
       "      <th>geometry</th>\n",
       "    </tr>\n",
       "  </thead>\n",
       "  <tbody>\n",
       "    <tr>\n",
       "      <th>0</th>\n",
       "      <td>SLAUSON</td>\n",
       "      <td>BLUE</td>\n",
       "      <td>POLYGON ((6487899.500 1821188.750, 6487982.425...</td>\n",
       "    </tr>\n",
       "    <tr>\n",
       "      <th>1</th>\n",
       "      <td>FLORENCE</td>\n",
       "      <td>BLUE</td>\n",
       "      <td>POLYGON ((6487925.000 1815903.250, 6488007.924...</td>\n",
       "    </tr>\n",
       "    <tr>\n",
       "      <th>2</th>\n",
       "      <td>FIRESTONE</td>\n",
       "      <td>BLUE</td>\n",
       "      <td>POLYGON ((6487901.500 1810601.625, 6487984.425...</td>\n",
       "    </tr>\n",
       "    <tr>\n",
       "      <th>6</th>\n",
       "      <td>DEL AMO</td>\n",
       "      <td>BLUE</td>\n",
       "      <td>POLYGON ((6497637.417 1769735.227, 6497720.342...</td>\n",
       "    </tr>\n",
       "    <tr>\n",
       "      <th>8</th>\n",
       "      <td>WILLOWBROOK TOD SPECIFIC PLAN</td>\n",
       "      <td>BLUE</td>\n",
       "      <td>POLYGON ((6492250.572 1794324.277, 6492295.494...</td>\n",
       "    </tr>\n",
       "  </tbody>\n",
       "</table>\n",
       "</div>"
      ],
      "text/plain": [
       "                            NAME  LINE  \\\n",
       "0                        SLAUSON  BLUE   \n",
       "1                       FLORENCE  BLUE   \n",
       "2                      FIRESTONE  BLUE   \n",
       "6                        DEL AMO  BLUE   \n",
       "8  WILLOWBROOK TOD SPECIFIC PLAN  BLUE   \n",
       "\n",
       "                                            geometry  \n",
       "0  POLYGON ((6487899.500 1821188.750, 6487982.425...  \n",
       "1  POLYGON ((6487925.000 1815903.250, 6488007.924...  \n",
       "2  POLYGON ((6487901.500 1810601.625, 6487984.425...  \n",
       "6  POLYGON ((6497637.417 1769735.227, 6497720.342...  \n",
       "8  POLYGON ((6492250.572 1794324.277, 6492295.494...  "
      ]
     },
     "execution_count": 30,
     "metadata": {},
     "output_type": "execute_result"
    }
   ],
   "source": [
    "tod_new.query(\"LINE == 'BLUE'\")"
   ]
  },
  {
   "cell_type": "markdown",
   "id": "98da95fb-b9aa-4e5b-bf92-ea0beb6fe4f6",
   "metadata": {},
   "source": [
    "There are a total of 5 data."
   ]
  },
  {
   "cell_type": "code",
   "execution_count": 31,
   "id": "b8169d36-beca-400d-93e5-7a1c7ebc7f16",
   "metadata": {},
   "outputs": [
    {
     "data": {
      "text/plain": [
       "<AxesSubplot:>"
      ]
     },
     "execution_count": 31,
     "metadata": {},
     "output_type": "execute_result"
    },
    {
     "data": {
      "image/png": "[encoded data removed]",
      "text/plain": [
       "<Figure size 432x288 with 1 Axes>"
      ]
     },
     "metadata": {
      "needs_background": "light"
     },
     "output_type": "display_data"
    }
   ],
   "source": [
    "tod_new.plot()"
   ]
  },
  {
   "cell_type": "markdown",
   "id": "c7850047-7616-457f-8ed2-e44dbe55adcf",
   "metadata": {},
   "source": [
    "From this output we see the locations of these TODs from the geometry column."
   ]
  },
  {
   "cell_type": "markdown",
   "id": "92e8b056-35af-475c-ae8b-4614890004aa",
   "metadata": {},
   "source": [
    "Let's try to make this plot nicer to look at with colorcoded stations."
   ]
  },
  {
   "cell_type": "code",
   "execution_count": 35,
   "id": "9c541019-edfe-458a-9f15-fec5e50a4349",
   "metadata": {},
   "outputs": [
    {
     "data": {
      "text/plain": [
       "<AxesSubplot:>"
      ]
     },
     "execution_count": 35,
     "metadata": {},
     "output_type": "execute_result"
    },
    {
     "data": {
      "image/png": "[encoded data removed]",
      "text/plain": [
       "<Figure size 1440x1440 with 1 Axes>"
      ]
     },
     "metadata": {
      "needs_background": "light"
     },
     "output_type": "display_data"
    }
   ],
   "source": [
    "tod_new.plot(\n",
    "            figsize=(20,20),   \n",
    "            column = 'LINE',   # column that defines the color of the dots\n",
    "            legend = True,     # add a legend           \n",
    "            legend_kwds={\n",
    "               'loc': 'upper left',\n",
    "               'bbox_to_anchor':(1,1)\n",
    "            }                  # this puts the legend to the side\n",
    ") "
   ]
  },
  {
   "cell_type": "markdown",
   "id": "c7711c8d-72aa-4e09-885d-147c663674bf",
   "metadata": {},
   "source": [
    "We see the color of these districts is different according to each metro line. Figsize is the size of this plot; column indicates which colum would define the color of the dots/shapes. I also added a legend, and located on the outside of the plot."
   ]
  }
 ],
 "metadata": {
  "kernelspec": {
   "display_name": "Python 3 (ipykernel)",
   "language": "python",
   "name": "python3"
  },
  "language_info": {
   "codemirror_mode": {
    "name": "ipython",
    "version": 3
   },
   "file_extension": ".py",
   "mimetype": "text/x-python",
   "name": "python",
   "nbconvert_exporter": "python",
   "pygments_lexer": "ipython3",
   "version": "3.9.6"
  }
 },
 "nbformat": 4,
 "nbformat_minor": 5
}
